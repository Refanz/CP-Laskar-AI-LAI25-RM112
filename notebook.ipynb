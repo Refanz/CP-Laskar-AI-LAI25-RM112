{
 "nbformat": 4,
 "nbformat_minor": 0,
 "metadata": {
  "colab": {
   "provenance": []
  },
  "kernelspec": {
   "name": "python3",
   "display_name": "Python 3"
  },
  "language_info": {
   "name": "python"
  }
 },
 "cells": [
  {
   "cell_type": "markdown",
   "source": [
    "# **Capstone Project: [Deteksi Penyakit pada Tanaman Kelapa Sawit]**\n",
    "**ID Group:** LAI25-RM112\n",
    "\n",
    "**Anggota Kelompok:**\n",
    "- A200YBF418_Refanda Surya Saputra - A200YBF418@devacademy.id\n",
    "- A270YAF435_Risky Fahriza - A270YAF435@devacademy.id\n",
    "- A528YBF449_Sebastian Luth Hasibuan - A528YBF449@devacademy.id\n",
    "- A184YBF450_Sefza Auma Alam - A184YBF450@devacademy.id"
   ],
   "metadata": {
    "id": "CNVQGZMucN3p"
   }
  },
  {
   "cell_type": "markdown",
   "source": "## **Import Libraries/Packages**",
   "metadata": {
    "id": "W2hA8O-8oSWY"
   }
  },
  {
   "cell_type": "code",
   "metadata": {
    "id": "pQ4EjBrvb9_Z",
    "ExecuteTime": {
     "end_time": "2025-05-18T17:15:20.700904Z",
     "start_time": "2025-05-18T17:15:20.694126Z"
    }
   },
   "source": [
    "import os\n",
    "import random\n",
    "import shutil\n",
    "import warnings\n",
    "import zipfile\n",
    "\n",
    "import cv2\n",
    "import matplotlib.pyplot as plt\n",
    "import numpy as np\n",
    "import pandas as pd\n",
    "import seaborn as sns\n",
    "\n",
    "import tensorflow as tf\n",
    "from keras import Model, layers\n",
    "from tensorflow.keras.callbacks import EarlyStopping, ModelCheckpoint\n",
    "\n",
    "from PIL import Image\n",
    "from skimage import io\n",
    "from skimage import img_as_ubyte\n",
    "from skimage.exposure import adjust_gamma\n",
    "from skimage.transform import rotate, AffineTransform, warp\n",
    "from sklearn.metrics import classification_report, confusion_matrix\n",
    "from sklearn.model_selection import train_test_split\n",
    "\n",
    "import gdown\n",
    "#from google.colab import drive\n",
    "\n",
    "print(tf.__version__)"
   ],
   "outputs": [
    {
     "name": "stdout",
     "output_type": "stream",
     "text": [
      "2.19.0\n"
     ]
    }
   ],
   "execution_count": 11
  },
  {
   "cell_type": "markdown",
   "source": "## **Loading Data**",
   "metadata": {
    "id": "XeaLQZ0MoY04"
   }
  },
  {
   "cell_type": "markdown",
   "source": "### **Preparation Data**",
   "metadata": {
    "id": "5b0ZSeNspXV-"
   }
  },
  {
   "metadata": {},
   "cell_type": "markdown",
   "source": "Menggunakan dataset dari google drive pada google colab"
  },
  {
   "metadata": {},
   "cell_type": "code",
   "outputs": [],
   "execution_count": null,
   "source": [
    "# Mounting dari google drive\n",
    "drive.mount('/content/drive')\n",
    "\n",
    "# Mengakses dataset di google drive\n",
    "dataset_path = '/content/drive/My Drive/Capstone LAI25-RM112/Dataset/palm-disease-dataset.zip'\n",
    "\n",
    "# Ekstrak dataset\n",
    "with zipfile.ZipFile(dataset_path, 'r') as zip_file:\n",
    "    zip_file.extractall('/content/dataset')"
   ]
  },
  {
   "metadata": {},
   "cell_type": "markdown",
   "source": "Mengunduh dataset ke penyimpanan lokal"
  },
  {
   "metadata": {
    "ExecuteTime": {
     "end_time": "2025-05-18T17:57:23.679045Z",
     "start_time": "2025-05-18T17:54:28.458359Z"
    }
   },
   "cell_type": "code",
   "source": [
    "# Ketika menggunakan IDE lokal\n",
    "file_id = \"1c9iWUpGHYl-eq057RheOT6q2-hcpj9F4\"\n",
    "url = f\"https://drive.google.com/uc?id={file_id}\"\n",
    "\n",
    "gdown.download(url, 'palm-disease-dataset.zip', quiet=False)"
   ],
   "outputs": [
    {
     "name": "stderr",
     "output_type": "stream",
     "text": [
      "Downloading...\n",
      "From (original): https://drive.google.com/uc?id=1c9iWUpGHYl-eq057RheOT6q2-hcpj9F4\n",
      "From (redirected): https://drive.google.com/uc?id=1c9iWUpGHYl-eq057RheOT6q2-hcpj9F4&confirm=t&uuid=4c716aa7-8a38-4c83-9b1a-f0007b46edad\n",
      "To: /home/refanzzzz/PycharmProjects/CP-Laskar-AI-LAI25-RM112/palm-disease-dataset.zip\n",
      "100%|██████████| 779M/779M [02:49<00:00, 4.59MB/s] \n"
     ]
    },
    {
     "data": {
      "text/plain": [
       "'palm-disease-dataset.zip'"
      ]
     },
     "execution_count": 13,
     "metadata": {},
     "output_type": "execute_result"
    }
   ],
   "execution_count": 13
  },
  {
   "metadata": {
    "ExecuteTime": {
     "end_time": "2025-05-18T17:58:05.658835Z",
     "start_time": "2025-05-18T17:58:02.351473Z"
    }
   },
   "cell_type": "code",
   "source": [
    "# Unzip berkas yang telah diuduh dari google drive\n",
    "with zipfile.ZipFile('palm-disease-dataset.zip', 'r') as zip_file:\n",
    "    zip_file.extractall()"
   ],
   "outputs": [],
   "execution_count": 14
  },
  {
   "cell_type": "markdown",
   "source": "### Checking Dataset",
   "metadata": {
    "id": "BIXrgpd9pgQZ"
   }
  },
  {
   "cell_type": "code",
   "source": "",
   "metadata": {
    "id": "Jysyo2MTpglq"
   },
   "execution_count": null,
   "outputs": []
  },
  {
   "cell_type": "markdown",
   "source": [
    "### Distribution Plot of Class Dataset"
   ],
   "metadata": {
    "id": "zar_lbfnpnbE"
   }
  },
  {
   "cell_type": "code",
   "source": [],
   "metadata": {
    "id": "1qg9h2Y4pwvq"
   },
   "execution_count": null,
   "outputs": []
  },
  {
   "cell_type": "markdown",
   "source": [
    "## Preprocessing Data"
   ],
   "metadata": {
    "id": "c-Sfek14pycx"
   }
  },
  {
   "cell_type": "markdown",
   "source": [
    "### Augmentation Data"
   ],
   "metadata": {
    "id": "_7OlSMTUp8Qv"
   }
  },
  {
   "cell_type": "code",
   "source": "",
   "metadata": {
    "id": "mua8qn_Ip_X6"
   },
   "execution_count": null,
   "outputs": []
  },
  {
   "cell_type": "markdown",
   "source": [
    "### Spliting Data"
   ],
   "metadata": {
    "id": "a0m6DsJOp_o6"
   }
  },
  {
   "cell_type": "code",
   "source": [],
   "metadata": {
    "id": "8_8HQay6qT67"
   },
   "execution_count": null,
   "outputs": []
  },
  {
   "cell_type": "markdown",
   "source": [
    "### Image Data Generator"
   ],
   "metadata": {
    "id": "bUdMDel_qUL8"
   }
  },
  {
   "cell_type": "code",
   "source": [],
   "metadata": {
    "id": "Mwg4_KBZqWzV"
   },
   "execution_count": null,
   "outputs": []
  },
  {
   "cell_type": "markdown",
   "source": [
    "## Building Model"
   ],
   "metadata": {
    "id": "ei2H6qnJqZAq"
   }
  },
  {
   "cell_type": "code",
   "source": [],
   "metadata": {
    "id": "5CR1p8PEqfs1"
   },
   "execution_count": null,
   "outputs": []
  },
  {
   "cell_type": "markdown",
   "source": [
    "## Evaluating Model"
   ],
   "metadata": {
    "id": "v6-5sMUvqium"
   }
  },
  {
   "cell_type": "code",
   "source": [],
   "metadata": {
    "id": "4_9mpbpXqkre"
   },
   "execution_count": null,
   "outputs": []
  },
  {
   "cell_type": "markdown",
   "source": [
    "## Converting Model"
   ],
   "metadata": {
    "id": "ISsizReJqt0s"
   }
  },
  {
   "cell_type": "code",
   "source": [],
   "metadata": {
    "id": "8fNLCfXXqw3_"
   },
   "execution_count": null,
   "outputs": []
  },
  {
   "cell_type": "markdown",
   "source": [
    "## Inferring Model"
   ],
   "metadata": {
    "id": "Rk_9o45pqxK1"
   }
  },
  {
   "cell_type": "code",
   "source": [],
   "metadata": {
    "id": "HkeN6EoTrUEU"
   },
   "execution_count": null,
   "outputs": []
  }
 ]
}
